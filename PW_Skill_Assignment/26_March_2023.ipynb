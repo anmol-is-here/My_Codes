{
 "cells": [
  {
   "cell_type": "markdown",
   "metadata": {},
   "source": [
    "### ANSWER-1."
   ]
  },
  {
   "cell_type": "markdown",
   "metadata": {},
   "source": [
    "**Simple linear regression** is a statistical method that analyzes the relationship between two continuous variables by fitting a linear equation to the data. It estimates the relationship between the dependent variable (y) and the independent variable (x) by finding the best-fit line that minimizes the sum of squared errors between the observed data points and the predicted values.\n",
    "\n",
    "**For example**, let's say you want to predict a person's weight (y) based on their height (x). You collect data on 20 individuals and plot the data on a scatter plot. You can then use simple linear regression to find the equation of the line that best fits the data and can be used to make predictions about an individual's weight based on their height.\n",
    "\n",
    "**Multiple linear regression**, on the other hand, is a statistical method that analyzes the relationship between multiple independent variables (x1, x2, x3, etc.) and a single dependent variable (y). It estimates the effect of each independent variable on the dependent variable while controlling for the effects of the other independent variables.\n",
    "\n",
    "**For example**, let's say you want to predict a person's salary (y) based on their education level (x1), years of experience (x2), and gender (x3). You collect data on 100 individuals and use multiple linear regression to find the equation that best fits the data and can be used to predict a person's salary based on their education level, years of experience, and gender."
   ]
  },
  {
   "cell_type": "markdown",
   "metadata": {},
   "source": [
    "### ANSWER-2."
   ]
  },
  {
   "cell_type": "markdown",
   "metadata": {},
   "source": [
    "**The assumptions of linear regression are:** \n",
    "\n",
    "=>Linearity: The relationship between the dependent variable and each independent variable is linear. This means that the relationship between the dependent variable and each independent variable should be approximately straight-line.\n",
    "\n",
    "=>Independence: The observations are independent of each other. This means that the value of the dependent variable for one observation should not be related to the value of the dependent variable for another observation.\n",
    "\n",
    "=>Normality: The errors are normally distributed. This means that the distribution of the residuals should be approximately normal.\n",
    "\n",
    "=>No Multicollinearity: There is no perfect multicollinearity between the independent variables. This means that the independent variables should not be highly correlated with each other.\n",
    "\n",
    "**To check whether these assumptions hold in a given dataset, various diagnostic tests can be performed. These tests include:**\n",
    "\n",
    "=>Residual plots: plotting the residuals against the predicted values and independent variables to detect patterns that violate the assumptions of linearity, homoscedasticity, and normality.\n",
    "\n",
    "=>Normal probability plots: plotting the residuals against the expected normal distribution to check for normality.\n",
    "\n",
    "=>Outlier detection: identifying and examining the influence of outliers on the regression model."
   ]
  },
  {
   "cell_type": "markdown",
   "metadata": {},
   "source": [
    "### ANSWER-3."
   ]
  },
  {
   "cell_type": "markdown",
   "metadata": {},
   "source": [
    "In a linear regression model, the slope and intercept represent the relationship between the dependent variable and independent variable(s). Specifically:\n",
    "\n",
    "The intercept (denoted by \"b0\") represents the predicted value of the dependent variable when all independent variables are equal to zero. It is the point where the regression line intersects with the y-axis.\n",
    "\n",
    "The slope (denoted by \"b1\") represents the change in the dependent variable for each one-unit increase in the independent variable. It is the steepness of the regression line and reflects the strength and direction of the relationship between the dependent variable and the independent variable."
   ]
  },
  {
   "cell_type": "markdown",
   "metadata": {},
   "source": [
    "### ANSWER-4."
   ]
  },
  {
   "cell_type": "markdown",
   "metadata": {},
   "source": [
    "**Gradient descent** is a popular optimization algorithm used in machine learning to minimize the cost function or the objective function. The goal of gradient descent is to find the optimal values of the parameters (also called weights) that minimize the cost function and make accurate predictions on new data.\n",
    "\n",
    "Gradient descent is used in many machine learning algorithms, such as linear regression, logistic regression, neural networks, and support vector machines. By minimizing the cost function using gradient descent, we can find the optimal values of the parameters that maximize the accuracy of the model on the training data and generalize well to new data."
   ]
  },
  {
   "cell_type": "markdown",
   "metadata": {},
   "source": [
    "### ANSWER-5."
   ]
  },
  {
   "cell_type": "markdown",
   "metadata": {},
   "source": [
    "In a multiple linear regression model, we predict the value of a dependent variable based on two or more independent variables. The multiple linear regression model is an extension of the simple linear regression model, which predicts the value of the dependent variable based on a single independent variable.\n",
    "\n",
    "The multiple linear regression model differs from the simple linear regression model in several ways.\n",
    "\n",
    "Multiple linear regression model involves multiple independent variables instead of just one.       \n",
    "Multiple linear regression model requires more parameters to estimate (i.e., b1, b2, ..., bp), which makes the model more complex and computationally intensive."
   ]
  },
  {
   "cell_type": "markdown",
   "metadata": {},
   "source": [
    "### ANSWER-6."
   ]
  },
  {
   "cell_type": "markdown",
   "metadata": {},
   "source": [
    "Multicollinearity refers to a situation in which two or more independent variables in a multiple linear regression model are highly correlated with each other. This can cause problems in the model, such as making it difficult to interpret the coefficients of the variables and reducing the accuracy of the model's predictions.\n",
    "\n",
    "Detecting multicollinearity can be done using several methods:\n",
    "\n",
    "1. Correlation matrix: A correlation matrix can be used to identify the correlation between the independent variables. If two or more variables have a high correlation coefficient (close to 1 or -1), it suggests that there may be multicollinearity in the model.\n",
    "\n",
    "2. Variance Inflation Factor (VIF): The VIF is a measure of the extent to which the variance of the estimated regression coefficients is inflated due to multicollinearity. A VIF value greater than 5 or 10 suggests that there may be multicollinearity in the model.\n",
    "\n",
    "3. Eigenvalues: The eigenvalues of the correlation matrix can be used to detect multicollinearity. If one or more eigenvalues are close to zero, it suggests that there may be multicollinearity in the model.\n"
   ]
  },
  {
   "cell_type": "markdown",
   "metadata": {},
   "source": [
    "### ANSWER-7."
   ]
  },
  {
   "cell_type": "markdown",
   "metadata": {},
   "source": [
    "A polynomial regression model is a type of regression analysis that allows for non-linear relationships between the dependent variable and one or more independent variables. Unlike linear regression, which assumes a linear relationship between the dependent variable and the independent variables, polynomial regression can model more complex relationships.\n",
    "\n",
    "The main difference between linear regression and polynomial regression is the nature of the relationship between the dependent variable and the independent variable.\n",
    "In linear regression, the relationship is assumed to be linear, while in polynomial regression, the relationship can be non-linear and can take on a more complex shape."
   ]
  },
  {
   "cell_type": "markdown",
   "metadata": {},
   "source": [
    "### ANSWER-8."
   ]
  },
  {
   "cell_type": "markdown",
   "metadata": {},
   "source": [
    "Advantages:\n",
    "1. Flexibility.\n",
    "2. Higher accuracy.\n",
    "3. Interpretability.\n",
    "\n",
    "Disadvantages:\n",
    "1. Overfitting.\n",
    "2. Extrapolation.\n",
    "3. Model selection."
   ]
  }
 ],
 "metadata": {
  "language_info": {
   "name": "python"
  },
  "orig_nbformat": 4
 },
 "nbformat": 4,
 "nbformat_minor": 2
}
