{
 "cells": [
  {
   "attachments": {},
   "cell_type": "markdown",
   "metadata": {},
   "source": [
    "## ANSWER-1"
   ]
  },
  {
   "attachments": {},
   "cell_type": "markdown",
   "metadata": {},
   "source": [
    "### 1.Artificial Intelligence "
   ]
  },
  {
   "attachments": {},
   "cell_type": "markdown",
   "metadata": {},
   "source": [
    "(AI) is a branch of computer science that deals with the creation of intelligent machines that can perform tasks that typically require human intelligence. The goal of AI is to create algorithms and systems that can learn from data, reason, make predictions, and take actions.AI systems can be classified into two categories: narrow or weak AI, and general or strong AI.\n",
    "\n",
    "EXAMPLE:- Auto driving cars, robotics etc."
   ]
  },
  {
   "attachments": {},
   "cell_type": "markdown",
   "metadata": {},
   "source": [
    "### 2.Machine Learning"
   ]
  },
  {
   "attachments": {},
   "cell_type": "markdown",
   "metadata": {},
   "source": [
    "Machine learning is a method of data analysis that automates analytical model building. It is a branch of artificial intelligence based on the idea that systems can learn from data, identify patterns and make decisions with minimal human intervention.\n",
    "\n",
    "TYPES:-\n",
    "1.Supervised Machine Learning\n",
    "2.Unsupervised Machine Learning\n",
    "3.Semi-Supervised Machine Learning\n",
    "4.Reinforcement Machine Learning\n",
    "\n",
    "EXAMPLE:- recommendation system , siri etc\n"
   ]
  },
  {
   "attachments": {},
   "cell_type": "markdown",
   "metadata": {},
   "source": [
    "### 3.Deep Learning"
   ]
  },
  {
   "attachments": {},
   "cell_type": "markdown",
   "metadata": {},
   "source": [
    "Deep learning is a branch of machine learning which is based on artificial neural networks. It is capable of learning complex patterns and relationships within data."
   ]
  },
  {
   "attachments": {},
   "cell_type": "markdown",
   "metadata": {},
   "source": [
    "## ANSWER-2"
   ]
  },
  {
   "attachments": {},
   "cell_type": "markdown",
   "metadata": {},
   "source": [
    "SUPERVISED MACHINE LEARNING.\n",
    "\n",
    "In supervised machine learning model is trained on a labeled dataset.\n",
    "In supervised learning, the training data provided to the machines work as the supervisor that teaches the machines to predict the output correctly. It applies the same concept as a student learns in the supervision of the teacher.\n",
    "\n",
    "EXAMPLE:-Image Classification, Fraud Detection etc."
   ]
  },
  {
   "attachments": {},
   "cell_type": "markdown",
   "metadata": {},
   "source": [
    "## ANSWER-3"
   ]
  },
  {
   "attachments": {},
   "cell_type": "markdown",
   "metadata": {},
   "source": [
    "UNSUPERVISED MACHINE LEARNING.\n",
    "\n",
    "Unsupervised machine learning analyzes and clusters unlabeled datasets using machine learning algorithms. These algorithms find hidden patterns and data without any human intervention, i.e., we don’t give output to our model. The training model has only input parameter values and discovers the groups or patterns on its own.\n",
    "\n",
    "EXAMPLE:-\n",
    "Clustering: This can be used for customer segmentation, image segmentation, or anomaly detection.  ,   \n",
    "Generative modeling: This can be used for generating realistic images or music."
   ]
  },
  {
   "attachments": {},
   "cell_type": "markdown",
   "metadata": {},
   "source": [
    "## ANSWER-4"
   ]
  },
  {
   "attachments": {},
   "cell_type": "markdown",
   "metadata": {},
   "source": [
    "#### ARTIFICIAL INTELLIGENCE\n",
    "It mainly refers to the development of computer systems that can perform tasks that typically require human intelligence, such as natural language processing, computer vision, and decision making.\n",
    "\n",
    "#### MACHINE LEARNING\n",
    "It is a subset of AI that involves the development of algorithms and statistical models that enable computer systems to improve their performance on a specific task by learning from data without being explicitly programmed.\n",
    "\n",
    "#### DEEP LEARNING\n",
    "It is a subcomponent of ML that involves the use of artificial neural networks, which are modeled after the structure and function of the human brain.It includes both AI and ML.\n",
    "\n",
    "#### DATA SCIENCE\n",
    "It is a branch which is the combination of all of the above components. It joins AI, ML, DL with each other in a useable manner."
   ]
  },
  {
   "attachments": {},
   "cell_type": "markdown",
   "metadata": {},
   "source": [
    "## ANSWER-5"
   ]
  },
  {
   "attachments": {},
   "cell_type": "markdown",
   "metadata": {},
   "source": [
    "#### Supervised learning\n",
    "In supervised learning, the model is trained on labeled data, where the input and output pairs are known. The objective of the model is to learn a mapping between input features and the corresponding output. The labeled data is used to train the model, and the model is then tested on new, unseen data. The goal of supervised learning is to make accurate predictions on new, unseen data.\n",
    "\n",
    "#### Unsupervised learning\n",
    "In unsupervised learning, the model is trained on unlabeled data, where the input data has no corresponding output. The objective of the model is to identify patterns or structure in the input data. Unsupervised learning can be used for tasks such as clustering, dimensionality reduction, and anomaly detection. The goal of unsupervised learning is to gain insights into the data and discover interesting relationships that can be further explored or used for decision-making.\n",
    "\n",
    "#### Semi-supervised learning\n",
    "In semi-supervised learning, the model is trained on a combination of labeled and unlabeled data. The labeled data is used to guide the learning process, while the unlabeled data is used to improve the generalization performance of the model. Semi-supervised learning can be useful when labeled data is scarce or expensive to obtain. The goal of semi-supervised learning is to make accurate predictions on new, unseen data while using as much of the available data as possible."
   ]
  },
  {
   "attachments": {},
   "cell_type": "markdown",
   "metadata": {},
   "source": [
    "\n",
    "## ANSWER-6"
   ]
  },
  {
   "attachments": {},
   "cell_type": "markdown",
   "metadata": {},
   "source": [
    "#### Train set\n",
    "This is the part of the dataset used to train the model. Typically, the train set consists of 60-80% of the entire dataset.\n",
    "It is important because it is used to teach the model how to make accurate predictions on new, unseen data.\n",
    "\n",
    "#### Test set\n",
    "This is the part of the dataset used to evaluate the performance of the trained model on unseen data. Typically, the test set consists of 20-40% of the entire dataset.\n",
    "It is important because it is used to evaluate the performance of the trained model on unseen data.\n",
    "\n",
    "#### Validation set\n",
    "The validation set is used to evaluate the performance of the model on data that is not used for training or testing. This helps to prevent the model from becoming too complex and overfitting the training data. Typically, the validation set consists of 10-20% of the entire dataset.\n",
    "It is important because it is used to fine-tune the model hyper-parameters and prevent overfitting."
   ]
  },
  {
   "attachments": {},
   "cell_type": "markdown",
   "metadata": {},
   "source": [
    "## ANSWER-7"
   ]
  },
  {
   "attachments": {},
   "cell_type": "markdown",
   "metadata": {},
   "source": [
    "Unsupervised learning can be used in anomaly detection to identify patterns or behaviors that deviate from the norm. Anomalies are observations or data points that are significantly different from the majority of the data, and can represent errors, outliers, or fraud.\n",
    "\n",
    "One common approach to using unsupervised learning for anomaly detection is clustering. Clustering algorithms group data points into clusters based on their similarity, and anomalous data points that do not fit into any cluster can be considered as anomalies. For example, k-means clustering can be used to group data points into k clusters, and any data point that is significantly far from its cluster centroid can be identified as an anomaly.\n",
    "\n",
    "Overall, unsupervised learning can be a powerful tool for anomaly detection, as it allows us to identify unusual patterns or behaviors in large datasets without the need for labeled examples of anomalies."
   ]
  },
  {
   "attachments": {},
   "cell_type": "markdown",
   "metadata": {},
   "source": [
    "## ANSWER-8"
   ]
  },
  {
   "attachments": {},
   "cell_type": "markdown",
   "metadata": {},
   "source": [
    "#### Supervised Learning Algorithms\n",
    "\n",
    "1.Linear Regression\n",
    "2.Logistic Regression\n",
    "3.Decision Trees\n",
    "4.Random Forest\n",
    "5.Naive Bayes etc.\n",
    "\n",
    "#### Unsupervised Learning Algorithms\n",
    "\n",
    "1.K-Means Clustering\n",
    "2.Hierarchical Clustering\n",
    "3.t-Distributed Stochastic Neighbor Embedding (t-SNE)\n",
    "4.Gaussian Mixture Models etc."
   ]
  },
  {
   "cell_type": "markdown",
   "metadata": {},
   "source": []
  }
 ],
 "metadata": {
  "language_info": {
   "name": "python"
  },
  "orig_nbformat": 4
 },
 "nbformat": 4,
 "nbformat_minor": 2
}
